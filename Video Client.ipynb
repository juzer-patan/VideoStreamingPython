{
 "cells": [
  {
   "cell_type": "markdown",
   "metadata": {},
   "source": [
    "# Client Program"
   ]
  },
  {
   "cell_type": "code",
   "execution_count": null,
   "metadata": {},
   "outputs": [],
   "source": [
    "import socket\n",
    "import json\n",
    "import pickle\n",
    "import cv2\n",
    "import urllib\n",
    "import numpy as np\n",
    "\n",
    "url = 'http://192.168.1.6:8080/shot.jpg'               #URL of IP Webacm Mobile App\n",
    "\n",
    "s = socket.socket(socket.AF_INET,socket.SOCK_STREAM)\n",
    "ip=\"192.168.1.5\"\n",
    "port=1234\n",
    "\n",
    "s.connect((ip,port))                                   #TCP Connection\n",
    "\n",
    "while True:\n",
    "    \n",
    "    x = s.recv(1000000)                                #Image data recieved from Server\n",
    "    \n",
    "    imgResp = urllib.request.urlopen(url)              #Connecting to the Mobile Camera through IP Webcam\n",
    "    imgNp = np.array(bytearray(imgResp.read()),dtype=np.uint8)\n",
    "    img = cv2.imdecode(imgNp,-1)\n",
    "    img = cv2.resize(img,(700,400))\n",
    "    ret, buffer = cv2.imencode('.jpg',img)\n",
    "    bytedata = pickle.dumps(buffer)\n",
    "    \n",
    "    \n",
    "    s.send(bytedata)                                   #Image data sent to the Server\n",
    "    try:\n",
    "        data = pickle.loads(x)\n",
    "        data = cv2.imdecode(data,cv2.IMREAD_COLOR)\n",
    "        \n",
    "        if data is not None :\n",
    "            cv2.imshow('Client',data)\n",
    "            if cv2.waitKey(10) == 13 :\n",
    "                break \n",
    "    except: \n",
    "        print(\"Waiting for the client!\")\n",
    "        \n",
    "    if cv2.waitKey(1) == 13: #13 is the Enter Key\n",
    "        break\n",
    "cv2.destroyAllWindows()"
   ]
  },
  {
   "cell_type": "code",
   "execution_count": null,
   "metadata": {},
   "outputs": [],
   "source": []
  },
  {
   "cell_type": "code",
   "execution_count": null,
   "metadata": {},
   "outputs": [],
   "source": []
  }
 ],
 "metadata": {
  "kernelspec": {
   "display_name": "Python 3",
   "language": "python",
   "name": "python3"
  },
  "language_info": {
   "codemirror_mode": {
    "name": "ipython",
    "version": 3
   },
   "file_extension": ".py",
   "mimetype": "text/x-python",
   "name": "python",
   "nbconvert_exporter": "python",
   "pygments_lexer": "ipython3",
   "version": "3.7.6"
  }
 },
 "nbformat": 4,
 "nbformat_minor": 4
}
