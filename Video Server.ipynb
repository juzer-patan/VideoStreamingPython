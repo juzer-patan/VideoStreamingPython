{
 "cells": [
  {
   "cell_type": "markdown",
   "metadata": {},
   "source": [
    "# Server Program"
   ]
  },
  {
   "cell_type": "code",
   "execution_count": 1,
   "metadata": {},
   "outputs": [
    {
     "name": "stdout",
     "output_type": "stream",
     "text": [
      "Binded\n",
      "Connected to ('192.168.1.5', 62880)\n"
     ]
    }
   ],
   "source": [
    "import socket\n",
    "import json\n",
    "import pickle\n",
    "#import numpy as np\n",
    "import cv2\n",
    "\n",
    "\n",
    "cap = cv2.VideoCapture(0)                              #Connecting to Webcam\n",
    "s = socket.socket(socket.AF_INET,socket.SOCK_STREAM)   #TCP Connecction\n",
    "ip=\"192.168.1.5\"\n",
    "port=1234\n",
    "\n",
    "s.bind((ip,port))\n",
    "print(\"Binded\")\n",
    "s.listen()\n",
    "\n",
    "o , addr = s.accept()\n",
    "print(\"Connected to {}\".format(addr))\n",
    "while True:\n",
    "    ret , photo = cap.read()                          #Image captured\n",
    "    ret, buffer = cv2.imencode('.jpg',photo)\n",
    "    bytedata = pickle.dumps(buffer)\n",
    "    o.send(bytedata)                                  #Image data sent to the Client\n",
    "\n",
    "    x = o.recv(1000000)                               #Image data recieved from Client\n",
    "    \n",
    "    try:\n",
    "        data = pickle.loads(x)\n",
    "        data = cv2.imdecode(data,cv2.IMREAD_COLOR)\n",
    "        \n",
    "        if data is not None :\n",
    "            cv2.imshow('Server',data)\n",
    "            if cv2.waitKey(10) == 13 :\n",
    "                break\n",
    "     \n",
    "    except: \n",
    "        print(\"Waiting for the client!\")\n",
    "        \n",
    "    if cv2.waitKey(1) == 13: #13 is the Enter Key\n",
    "        break\n",
    "\n",
    "cv2.destroyAllWindows()\n"
   ]
  },
  {
   "cell_type": "code",
   "execution_count": 2,
   "metadata": {},
   "outputs": [],
   "source": [
    "cap.release()"
   ]
  },
  {
   "cell_type": "code",
   "execution_count": null,
   "metadata": {},
   "outputs": [],
   "source": []
  }
 ],
 "metadata": {
  "kernelspec": {
   "display_name": "Python 3",
   "language": "python",
   "name": "python3"
  },
  "language_info": {
   "codemirror_mode": {
    "name": "ipython",
    "version": 3
   },
   "file_extension": ".py",
   "mimetype": "text/x-python",
   "name": "python",
   "nbconvert_exporter": "python",
   "pygments_lexer": "ipython3",
   "version": "3.7.6"
  }
 },
 "nbformat": 4,
 "nbformat_minor": 4
}
